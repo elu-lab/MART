{
 "cells": [
  {
   "cell_type": "markdown",
   "metadata": {},
   "source": [
    "# persuasiveness"
   ]
  },
  {
   "cell_type": "code",
   "execution_count": null,
   "metadata": {},
   "outputs": [
    {
     "data": {
      "text/html": [
       "<div>\n",
       "<style scoped>\n",
       "    .dataframe tbody tr th:only-of-type {\n",
       "        vertical-align: middle;\n",
       "    }\n",
       "\n",
       "    .dataframe tbody tr th {\n",
       "        vertical-align: top;\n",
       "    }\n",
       "\n",
       "    .dataframe thead th {\n",
       "        text-align: right;\n",
       "    }\n",
       "</style>\n",
       "<table border=\"1\" class=\"dataframe\">\n",
       "  <thead>\n",
       "    <tr style=\"text-align: right;\">\n",
       "      <th></th>\n",
       "      <th>score</th>\n",
       "      <th>group</th>\n",
       "    </tr>\n",
       "  </thead>\n",
       "  <tbody>\n",
       "    <tr>\n",
       "      <th>0</th>\n",
       "      <td>3.40</td>\n",
       "      <td>1b_vanilla</td>\n",
       "    </tr>\n",
       "    <tr>\n",
       "      <th>1</th>\n",
       "      <td>2.70</td>\n",
       "      <td>1b_vanilla</td>\n",
       "    </tr>\n",
       "    <tr>\n",
       "      <th>2</th>\n",
       "      <td>2.80</td>\n",
       "      <td>1b_vanilla</td>\n",
       "    </tr>\n",
       "    <tr>\n",
       "      <th>3</th>\n",
       "      <td>2.10</td>\n",
       "      <td>1b_vanilla</td>\n",
       "    </tr>\n",
       "    <tr>\n",
       "      <th>4</th>\n",
       "      <td>3.15</td>\n",
       "      <td>1b_vanilla</td>\n",
       "    </tr>\n",
       "    <tr>\n",
       "      <th>...</th>\n",
       "      <td>...</td>\n",
       "      <td>...</td>\n",
       "    </tr>\n",
       "    <tr>\n",
       "      <th>7516</th>\n",
       "      <td>4.30</td>\n",
       "      <td>8b_distil</td>\n",
       "    </tr>\n",
       "    <tr>\n",
       "      <th>7517</th>\n",
       "      <td>1.00</td>\n",
       "      <td>8b_distil</td>\n",
       "    </tr>\n",
       "    <tr>\n",
       "      <th>7518</th>\n",
       "      <td>1.55</td>\n",
       "      <td>8b_distil</td>\n",
       "    </tr>\n",
       "    <tr>\n",
       "      <th>7519</th>\n",
       "      <td>4.05</td>\n",
       "      <td>8b_distil</td>\n",
       "    </tr>\n",
       "    <tr>\n",
       "      <th>7520</th>\n",
       "      <td>4.05</td>\n",
       "      <td>8b_distil</td>\n",
       "    </tr>\n",
       "  </tbody>\n",
       "</table>\n",
       "<p>7521 rows × 2 columns</p>\n",
       "</div>"
      ],
      "text/plain": [
       "      score       group\n",
       "0      3.40  1b_vanilla\n",
       "1      2.70  1b_vanilla\n",
       "2      2.80  1b_vanilla\n",
       "3      2.10  1b_vanilla\n",
       "4      3.15  1b_vanilla\n",
       "...     ...         ...\n",
       "7516   4.30   8b_distil\n",
       "7517   1.00   8b_distil\n",
       "7518   1.55   8b_distil\n",
       "7519   4.05   8b_distil\n",
       "7520   4.05   8b_distil\n",
       "\n",
       "[7521 rows x 2 columns]"
      ]
     },
     "metadata": {},
     "output_type": "display_data"
    },
    {
     "name": "stdout",
     "output_type": "stream",
     "text": [
      "              df       sum_sq     mean_sq           F  PR(>F)\n",
      "group        4.0  1096.512703  274.128176  600.678142     0.0\n",
      "Residual  7516.0  3430.035530    0.456364         NaN     NaN\n"
     ]
    }
   ],
   "source": [
    "import pandas as pd\n",
    "import statsmodels.api as sm\n",
    "from statsmodels.formula.api import ols\n",
    "import os \n",
    "\n",
    "csv_files = [\n",
    "    \"./Statistics/data/1b_vanilla_scores.csv\",\n",
    "    \"./Statistics/data/8b_vanilla_scores.csv\",\n",
    "    \"./Statistics/data/405b_scores.csv\",\n",
    "    \"./Statistics/data/1b_distil_scores.csv\",\n",
    "    \"./Statistics/data/8b_distil_scores.csv\"\n",
    "]\n",
    "\n",
    "data = pd.DataFrame()\n",
    "for file in csv_files:\n",
    "    df = pd.read_csv(file)\n",
    "    \n",
    "    group_name = os.path.basename(file).split('_scores')[0]\n",
    "    df['group'] = group_name \n",
    "    \n",
    "    data = pd.concat([data, df], ignore_index=True)\n",
    "\n",
    "display(data)\n",
    "\n",
    "model = ols('score ~ group', data=data).fit()\n",
    "anova_table = sm.stats.anova_lm(model)\n",
    "\n",
    "print(anova_table)"
   ]
  },
  {
   "cell_type": "code",
   "execution_count": 27,
   "metadata": {},
   "outputs": [
    {
     "name": "stdout",
     "output_type": "stream",
     "text": [
      "    Multiple Comparison of Means - Tukey HSD, FWER=0.05     \n",
      "============================================================\n",
      "  group1     group2   meandiff p-adj   lower   upper  reject\n",
      "------------------------------------------------------------\n",
      " 1b_distil 1b_vanilla  -0.7025    0.0   -0.77  -0.635   True\n",
      " 1b_distil       405b   0.2711    0.0  0.2021  0.3401   True\n",
      " 1b_distil  8b_distil   0.3416    0.0  0.2713  0.4119   True\n",
      " 1b_distil 8b_vanilla   0.0865 0.0046  0.0187  0.1543   True\n",
      "1b_vanilla       405b   0.9736    0.0  0.9078  1.0393   True\n",
      "1b_vanilla  8b_distil   1.0441    0.0   0.977  1.1112   True\n",
      "1b_vanilla 8b_vanilla    0.789    0.0  0.7245  0.8535   True\n",
      "      405b  8b_distil   0.0706 0.0402   0.002  0.1392   True\n",
      "      405b 8b_vanilla  -0.1846    0.0 -0.2506 -0.1186   True\n",
      " 8b_distil 8b_vanilla  -0.2551    0.0 -0.3225 -0.1877   True\n",
      "------------------------------------------------------------\n"
     ]
    }
   ],
   "source": [
    "from statsmodels.stats.multicomp import pairwise_tukeyhsd\n",
    "import numpy as np\n",
    "\n",
    "tukey_result = pairwise_tukeyhsd(endog=data['score'], groups=data['group'], alpha=0.05)\n",
    "np.set_printoptions(precision=3)\n",
    "\n",
    "print(tukey_result)"
   ]
  },
  {
   "cell_type": "markdown",
   "metadata": {},
   "source": [
    "---"
   ]
  },
  {
   "cell_type": "markdown",
   "metadata": {},
   "source": [
    "# dominance"
   ]
  },
  {
   "cell_type": "code",
   "execution_count": 13,
   "metadata": {},
   "outputs": [
    {
     "data": {
      "text/html": [
       "<div>\n",
       "<style scoped>\n",
       "    .dataframe tbody tr th:only-of-type {\n",
       "        vertical-align: middle;\n",
       "    }\n",
       "\n",
       "    .dataframe tbody tr th {\n",
       "        vertical-align: top;\n",
       "    }\n",
       "\n",
       "    .dataframe thead th {\n",
       "        text-align: right;\n",
       "    }\n",
       "</style>\n",
       "<table border=\"1\" class=\"dataframe\">\n",
       "  <thead>\n",
       "    <tr style=\"text-align: right;\">\n",
       "      <th></th>\n",
       "      <th>405b_dominance</th>\n",
       "      <th>8b_zeroshot_dominance</th>\n",
       "      <th>1b_zeroshot_dominance</th>\n",
       "      <th>8b_distil_dominance</th>\n",
       "      <th>1b_distil_dominance</th>\n",
       "    </tr>\n",
       "  </thead>\n",
       "  <tbody>\n",
       "    <tr>\n",
       "      <th>0</th>\n",
       "      <td>0.500000</td>\n",
       "      <td>NaN</td>\n",
       "      <td>0.000000</td>\n",
       "      <td>0.431877</td>\n",
       "      <td>0.061930</td>\n",
       "    </tr>\n",
       "    <tr>\n",
       "      <th>1</th>\n",
       "      <td>0.274270</td>\n",
       "      <td>0.180019</td>\n",
       "      <td>0.651272</td>\n",
       "      <td>0.368520</td>\n",
       "      <td>0.462771</td>\n",
       "    </tr>\n",
       "    <tr>\n",
       "      <th>2</th>\n",
       "      <td>0.436308</td>\n",
       "      <td>0.360031</td>\n",
       "      <td>0.239512</td>\n",
       "      <td>0.360031</td>\n",
       "      <td>NaN</td>\n",
       "    </tr>\n",
       "    <tr>\n",
       "      <th>3</th>\n",
       "      <td>NaN</td>\n",
       "      <td>0.097685</td>\n",
       "      <td>0.108538</td>\n",
       "      <td>0.314761</td>\n",
       "      <td>0.000000</td>\n",
       "    </tr>\n",
       "    <tr>\n",
       "      <th>4</th>\n",
       "      <td>0.500000</td>\n",
       "      <td>1.000000</td>\n",
       "      <td>1.000000</td>\n",
       "      <td>NaN</td>\n",
       "      <td>1.000000</td>\n",
       "    </tr>\n",
       "  </tbody>\n",
       "</table>\n",
       "</div>"
      ],
      "text/plain": [
       "   405b_dominance  8b_zeroshot_dominance  1b_zeroshot_dominance  \\\n",
       "0        0.500000                    NaN               0.000000   \n",
       "1        0.274270               0.180019               0.651272   \n",
       "2        0.436308               0.360031               0.239512   \n",
       "3             NaN               0.097685               0.108538   \n",
       "4        0.500000               1.000000               1.000000   \n",
       "\n",
       "   8b_distil_dominance  1b_distil_dominance  \n",
       "0             0.431877             0.061930  \n",
       "1             0.368520             0.462771  \n",
       "2             0.360031                  NaN  \n",
       "3             0.314761             0.000000  \n",
       "4                  NaN             1.000000  "
      ]
     },
     "metadata": {},
     "output_type": "display_data"
    }
   ],
   "source": [
    "dominance = pd.read_csv(\"./Statistics/final_price_label.csv\")\n",
    "dominance = dominance[[\"405b_dominance\", \"8b_zeroshot_dominance\", \"1b_zeroshot_dominance\", \"8b_distil_dominance\", \"1b_distil_dominance\"]]\n",
    "display(dominance.head())"
   ]
  },
  {
   "cell_type": "code",
   "execution_count": 16,
   "metadata": {},
   "outputs": [
    {
     "data": {
      "text/plain": [
       "405b_dominance           297\n",
       "8b_zeroshot_dominance    317\n",
       "1b_zeroshot_dominance    296\n",
       "8b_distil_dominance      265\n",
       "1b_distil_dominance      270\n",
       "dtype: int64"
      ]
     },
     "execution_count": 16,
     "metadata": {},
     "output_type": "execute_result"
    }
   ],
   "source": [
    "dominance.count()"
   ]
  },
  {
   "cell_type": "code",
   "execution_count": 14,
   "metadata": {},
   "outputs": [
    {
     "name": "stdout",
     "output_type": "stream",
     "text": [
      "          group     score\n",
      "0          405b  0.500000\n",
      "1          405b  0.274270\n",
      "2          405b  0.436308\n",
      "4          405b  0.500000\n",
      "5          405b  0.500000\n",
      "...         ...       ...\n",
      "1628  1b_distil  0.033349\n",
      "1629  1b_distil  0.217869\n",
      "1630  1b_distil  0.287041\n",
      "1632  1b_distil  0.000000\n",
      "1634  1b_distil  0.551570\n",
      "\n",
      "[1445 rows x 2 columns]\n",
      "                df   sum_sq  mean_sq       F  PR(>F)\n",
      "group       4.0000  21.5249   5.3812 53.5370  0.0000\n",
      "Residual 1440.0000 144.7404   0.1005     NaN     NaN\n"
     ]
    }
   ],
   "source": [
    "data_long = dominance.melt(var_name='group', value_name='score')\n",
    "\n",
    "data_long['group'] = data_long['group'].str.split('_dominance').str[0]\n",
    "data_long = data_long.dropna()\n",
    "\n",
    "print(data_long)\n",
    "\n",
    "model = ols('score ~ group', data=data_long).fit()\n",
    "anova_table = sm.stats.anova_lm(model)\n",
    "\n",
    "pd.options.display.float_format = '{:.4f}'.format\n",
    "# pd.reset_option('display.float_format')\n",
    "\n",
    "print(anova_table)"
   ]
  },
  {
   "cell_type": "code",
   "execution_count": 41,
   "metadata": {},
   "outputs": [
    {
     "name": "stdout",
     "output_type": "stream",
     "text": [
      "     Multiple Comparison of Means - Tukey HSD, FWER=0.05      \n",
      "==============================================================\n",
      "   group1      group2   meandiff p-adj   lower   upper  reject\n",
      "--------------------------------------------------------------\n",
      "  1b_distil 1b_zeroshot  -0.1184 0.0001 -0.1912 -0.0455   True\n",
      "  1b_distil        405b   0.2129    0.0  0.1401  0.2857   True\n",
      "  1b_distil   8b_distil   0.1365    0.0  0.0616  0.2113   True\n",
      "  1b_distil 8b_zeroshot   0.1606    0.0  0.0889  0.2323   True\n",
      "1b_zeroshot        405b   0.3313    0.0  0.2601  0.4024   True\n",
      "1b_zeroshot   8b_distil   0.2548    0.0  0.1816  0.3281   True\n",
      "1b_zeroshot 8b_zeroshot    0.279    0.0   0.209   0.349   True\n",
      "       405b   8b_distil  -0.0764 0.0355 -0.1496 -0.0033   True\n",
      "       405b 8b_zeroshot  -0.0523 0.2468 -0.1222  0.0177  False\n",
      "  8b_distil 8b_zeroshot   0.0242 0.8909 -0.0479  0.0962  False\n",
      "--------------------------------------------------------------\n"
     ]
    }
   ],
   "source": [
    "from statsmodels.stats.multicomp import pairwise_tukeyhsd\n",
    "import numpy as np\n",
    "\n",
    "tukey_result = pairwise_tukeyhsd(endog=data_long['score'], groups=data_long['group'], alpha=0.05)\n",
    "np.set_printoptions(precision=3)\n",
    "\n",
    "print(tukey_result)"
   ]
  }
 ],
 "metadata": {
  "kernelspec": {
   "display_name": "Nego",
   "language": "python",
   "name": "python3"
  },
  "language_info": {
   "codemirror_mode": {
    "name": "ipython",
    "version": 3
   },
   "file_extension": ".py",
   "mimetype": "text/x-python",
   "name": "python",
   "nbconvert_exporter": "python",
   "pygments_lexer": "ipython3",
   "version": "3.10.15"
  }
 },
 "nbformat": 4,
 "nbformat_minor": 2
}
